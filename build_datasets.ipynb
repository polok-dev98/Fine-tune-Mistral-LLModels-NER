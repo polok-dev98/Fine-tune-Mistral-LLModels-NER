{
  "cells": [
    {
      "cell_type": "code",
      "source": [
        "from google.colab import drive\n",
        "drive.mount('/content/drive')"
      ],
      "metadata": {
        "colab": {
          "base_uri": "https://localhost:8080/"
        },
        "id": "pNz-vK9WKkd-",
        "outputId": "571fb90a-967b-414e-dad3-cb1abc3687b0"
      },
      "id": "pNz-vK9WKkd-",
      "execution_count": 1,
      "outputs": [
        {
          "output_type": "stream",
          "name": "stdout",
          "text": [
            "Drive already mounted at /content/drive; to attempt to forcibly remount, call drive.mount(\"/content/drive\", force_remount=True).\n"
          ]
        }
      ]
    },
    {
      "cell_type": "code",
      "execution_count": 2,
      "id": "d6a9a56d",
      "metadata": {
        "id": "d6a9a56d"
      },
      "outputs": [],
      "source": [
        "import pandas as pd"
      ]
    },
    {
      "cell_type": "code",
      "execution_count": 3,
      "id": "434eab66",
      "metadata": {
        "id": "434eab66"
      },
      "outputs": [],
      "source": [
        "# Read the text file into a pandas DataFrame\n",
        "df = pd.read_csv('/content/drive/MyDrive/summary/train.txt', header=None, delimiter='\\t')"
      ]
    },
    {
      "cell_type": "code",
      "execution_count": 4,
      "id": "2c0edcab",
      "metadata": {
        "id": "2c0edcab"
      },
      "outputs": [],
      "source": [
        "# df = df.iloc[:7000,:]\n",
        "# Randomly select 20,000 rows\n",
        "df = df.sample(n=90000, random_state=42)"
      ]
    },
    {
      "cell_type": "code",
      "execution_count": 5,
      "id": "4f9eb900",
      "metadata": {
        "id": "4f9eb900"
      },
      "outputs": [],
      "source": [
        "# Rename the column if needed\n",
        "df = df.rename(columns={0: 'original_col'})"
      ]
    },
    {
      "cell_type": "code",
      "execution_count": 6,
      "id": "5312ee5f",
      "metadata": {
        "colab": {
          "base_uri": "https://localhost:8080/",
          "height": 363
        },
        "id": "5312ee5f",
        "outputId": "a1c2da37-6789-4c0d-c2cd-3449a7a2f8dd"
      },
      "outputs": [
        {
          "output_type": "execute_result",
          "data": {
            "text/plain": [
              "              original_col\n",
              "69960         সদস্য। _ _ O\n",
              "118689        ডাই _ _ B-CW\n",
              "72388             সহ _ _ O\n",
              "40272             এর _ _ O\n",
              "809            বছরের _ _ O\n",
              "111677          যেমন _ _ O\n",
              "135676          হয়ে _ _ O\n",
              "29771   হার্ডউইক _ _ I-PER\n",
              "82886           মেটা _ _ O\n",
              "40858              , _ _ O"
            ],
            "text/html": [
              "\n",
              "  <div id=\"df-428b474c-948c-4a40-af19-b1fa09fe2eb2\" class=\"colab-df-container\">\n",
              "    <div>\n",
              "<style scoped>\n",
              "    .dataframe tbody tr th:only-of-type {\n",
              "        vertical-align: middle;\n",
              "    }\n",
              "\n",
              "    .dataframe tbody tr th {\n",
              "        vertical-align: top;\n",
              "    }\n",
              "\n",
              "    .dataframe thead th {\n",
              "        text-align: right;\n",
              "    }\n",
              "</style>\n",
              "<table border=\"1\" class=\"dataframe\">\n",
              "  <thead>\n",
              "    <tr style=\"text-align: right;\">\n",
              "      <th></th>\n",
              "      <th>original_col</th>\n",
              "    </tr>\n",
              "  </thead>\n",
              "  <tbody>\n",
              "    <tr>\n",
              "      <th>69960</th>\n",
              "      <td>সদস্য। _ _ O</td>\n",
              "    </tr>\n",
              "    <tr>\n",
              "      <th>118689</th>\n",
              "      <td>ডাই _ _ B-CW</td>\n",
              "    </tr>\n",
              "    <tr>\n",
              "      <th>72388</th>\n",
              "      <td>সহ _ _ O</td>\n",
              "    </tr>\n",
              "    <tr>\n",
              "      <th>40272</th>\n",
              "      <td>এর _ _ O</td>\n",
              "    </tr>\n",
              "    <tr>\n",
              "      <th>809</th>\n",
              "      <td>বছরের _ _ O</td>\n",
              "    </tr>\n",
              "    <tr>\n",
              "      <th>111677</th>\n",
              "      <td>যেমন _ _ O</td>\n",
              "    </tr>\n",
              "    <tr>\n",
              "      <th>135676</th>\n",
              "      <td>হয়ে _ _ O</td>\n",
              "    </tr>\n",
              "    <tr>\n",
              "      <th>29771</th>\n",
              "      <td>হার্ডউইক _ _ I-PER</td>\n",
              "    </tr>\n",
              "    <tr>\n",
              "      <th>82886</th>\n",
              "      <td>মেটা _ _ O</td>\n",
              "    </tr>\n",
              "    <tr>\n",
              "      <th>40858</th>\n",
              "      <td>, _ _ O</td>\n",
              "    </tr>\n",
              "  </tbody>\n",
              "</table>\n",
              "</div>\n",
              "    <div class=\"colab-df-buttons\">\n",
              "\n",
              "  <div class=\"colab-df-container\">\n",
              "    <button class=\"colab-df-convert\" onclick=\"convertToInteractive('df-428b474c-948c-4a40-af19-b1fa09fe2eb2')\"\n",
              "            title=\"Convert this dataframe to an interactive table.\"\n",
              "            style=\"display:none;\">\n",
              "\n",
              "  <svg xmlns=\"http://www.w3.org/2000/svg\" height=\"24px\" viewBox=\"0 -960 960 960\">\n",
              "    <path d=\"M120-120v-720h720v720H120Zm60-500h600v-160H180v160Zm220 220h160v-160H400v160Zm0 220h160v-160H400v160ZM180-400h160v-160H180v160Zm440 0h160v-160H620v160ZM180-180h160v-160H180v160Zm440 0h160v-160H620v160Z\"/>\n",
              "  </svg>\n",
              "    </button>\n",
              "\n",
              "  <style>\n",
              "    .colab-df-container {\n",
              "      display:flex;\n",
              "      gap: 12px;\n",
              "    }\n",
              "\n",
              "    .colab-df-convert {\n",
              "      background-color: #E8F0FE;\n",
              "      border: none;\n",
              "      border-radius: 50%;\n",
              "      cursor: pointer;\n",
              "      display: none;\n",
              "      fill: #1967D2;\n",
              "      height: 32px;\n",
              "      padding: 0 0 0 0;\n",
              "      width: 32px;\n",
              "    }\n",
              "\n",
              "    .colab-df-convert:hover {\n",
              "      background-color: #E2EBFA;\n",
              "      box-shadow: 0px 1px 2px rgba(60, 64, 67, 0.3), 0px 1px 3px 1px rgba(60, 64, 67, 0.15);\n",
              "      fill: #174EA6;\n",
              "    }\n",
              "\n",
              "    .colab-df-buttons div {\n",
              "      margin-bottom: 4px;\n",
              "    }\n",
              "\n",
              "    [theme=dark] .colab-df-convert {\n",
              "      background-color: #3B4455;\n",
              "      fill: #D2E3FC;\n",
              "    }\n",
              "\n",
              "    [theme=dark] .colab-df-convert:hover {\n",
              "      background-color: #434B5C;\n",
              "      box-shadow: 0px 1px 3px 1px rgba(0, 0, 0, 0.15);\n",
              "      filter: drop-shadow(0px 1px 2px rgba(0, 0, 0, 0.3));\n",
              "      fill: #FFFFFF;\n",
              "    }\n",
              "  </style>\n",
              "\n",
              "    <script>\n",
              "      const buttonEl =\n",
              "        document.querySelector('#df-428b474c-948c-4a40-af19-b1fa09fe2eb2 button.colab-df-convert');\n",
              "      buttonEl.style.display =\n",
              "        google.colab.kernel.accessAllowed ? 'block' : 'none';\n",
              "\n",
              "      async function convertToInteractive(key) {\n",
              "        const element = document.querySelector('#df-428b474c-948c-4a40-af19-b1fa09fe2eb2');\n",
              "        const dataTable =\n",
              "          await google.colab.kernel.invokeFunction('convertToInteractive',\n",
              "                                                    [key], {});\n",
              "        if (!dataTable) return;\n",
              "\n",
              "        const docLinkHtml = 'Like what you see? Visit the ' +\n",
              "          '<a target=\"_blank\" href=https://colab.research.google.com/notebooks/data_table.ipynb>data table notebook</a>'\n",
              "          + ' to learn more about interactive tables.';\n",
              "        element.innerHTML = '';\n",
              "        dataTable['output_type'] = 'display_data';\n",
              "        await google.colab.output.renderOutput(dataTable, element);\n",
              "        const docLink = document.createElement('div');\n",
              "        docLink.innerHTML = docLinkHtml;\n",
              "        element.appendChild(docLink);\n",
              "      }\n",
              "    </script>\n",
              "  </div>\n",
              "\n",
              "\n",
              "<div id=\"df-0b969ec8-9063-4f5d-95b1-e71e514371c0\">\n",
              "  <button class=\"colab-df-quickchart\" onclick=\"quickchart('df-0b969ec8-9063-4f5d-95b1-e71e514371c0')\"\n",
              "            title=\"Suggest charts\"\n",
              "            style=\"display:none;\">\n",
              "\n",
              "<svg xmlns=\"http://www.w3.org/2000/svg\" height=\"24px\"viewBox=\"0 0 24 24\"\n",
              "     width=\"24px\">\n",
              "    <g>\n",
              "        <path d=\"M19 3H5c-1.1 0-2 .9-2 2v14c0 1.1.9 2 2 2h14c1.1 0 2-.9 2-2V5c0-1.1-.9-2-2-2zM9 17H7v-7h2v7zm4 0h-2V7h2v10zm4 0h-2v-4h2v4z\"/>\n",
              "    </g>\n",
              "</svg>\n",
              "  </button>\n",
              "\n",
              "<style>\n",
              "  .colab-df-quickchart {\n",
              "      --bg-color: #E8F0FE;\n",
              "      --fill-color: #1967D2;\n",
              "      --hover-bg-color: #E2EBFA;\n",
              "      --hover-fill-color: #174EA6;\n",
              "      --disabled-fill-color: #AAA;\n",
              "      --disabled-bg-color: #DDD;\n",
              "  }\n",
              "\n",
              "  [theme=dark] .colab-df-quickchart {\n",
              "      --bg-color: #3B4455;\n",
              "      --fill-color: #D2E3FC;\n",
              "      --hover-bg-color: #434B5C;\n",
              "      --hover-fill-color: #FFFFFF;\n",
              "      --disabled-bg-color: #3B4455;\n",
              "      --disabled-fill-color: #666;\n",
              "  }\n",
              "\n",
              "  .colab-df-quickchart {\n",
              "    background-color: var(--bg-color);\n",
              "    border: none;\n",
              "    border-radius: 50%;\n",
              "    cursor: pointer;\n",
              "    display: none;\n",
              "    fill: var(--fill-color);\n",
              "    height: 32px;\n",
              "    padding: 0;\n",
              "    width: 32px;\n",
              "  }\n",
              "\n",
              "  .colab-df-quickchart:hover {\n",
              "    background-color: var(--hover-bg-color);\n",
              "    box-shadow: 0 1px 2px rgba(60, 64, 67, 0.3), 0 1px 3px 1px rgba(60, 64, 67, 0.15);\n",
              "    fill: var(--button-hover-fill-color);\n",
              "  }\n",
              "\n",
              "  .colab-df-quickchart-complete:disabled,\n",
              "  .colab-df-quickchart-complete:disabled:hover {\n",
              "    background-color: var(--disabled-bg-color);\n",
              "    fill: var(--disabled-fill-color);\n",
              "    box-shadow: none;\n",
              "  }\n",
              "\n",
              "  .colab-df-spinner {\n",
              "    border: 2px solid var(--fill-color);\n",
              "    border-color: transparent;\n",
              "    border-bottom-color: var(--fill-color);\n",
              "    animation:\n",
              "      spin 1s steps(1) infinite;\n",
              "  }\n",
              "\n",
              "  @keyframes spin {\n",
              "    0% {\n",
              "      border-color: transparent;\n",
              "      border-bottom-color: var(--fill-color);\n",
              "      border-left-color: var(--fill-color);\n",
              "    }\n",
              "    20% {\n",
              "      border-color: transparent;\n",
              "      border-left-color: var(--fill-color);\n",
              "      border-top-color: var(--fill-color);\n",
              "    }\n",
              "    30% {\n",
              "      border-color: transparent;\n",
              "      border-left-color: var(--fill-color);\n",
              "      border-top-color: var(--fill-color);\n",
              "      border-right-color: var(--fill-color);\n",
              "    }\n",
              "    40% {\n",
              "      border-color: transparent;\n",
              "      border-right-color: var(--fill-color);\n",
              "      border-top-color: var(--fill-color);\n",
              "    }\n",
              "    60% {\n",
              "      border-color: transparent;\n",
              "      border-right-color: var(--fill-color);\n",
              "    }\n",
              "    80% {\n",
              "      border-color: transparent;\n",
              "      border-right-color: var(--fill-color);\n",
              "      border-bottom-color: var(--fill-color);\n",
              "    }\n",
              "    90% {\n",
              "      border-color: transparent;\n",
              "      border-bottom-color: var(--fill-color);\n",
              "    }\n",
              "  }\n",
              "</style>\n",
              "\n",
              "  <script>\n",
              "    async function quickchart(key) {\n",
              "      const quickchartButtonEl =\n",
              "        document.querySelector('#' + key + ' button');\n",
              "      quickchartButtonEl.disabled = true;  // To prevent multiple clicks.\n",
              "      quickchartButtonEl.classList.add('colab-df-spinner');\n",
              "      try {\n",
              "        const charts = await google.colab.kernel.invokeFunction(\n",
              "            'suggestCharts', [key], {});\n",
              "      } catch (error) {\n",
              "        console.error('Error during call to suggestCharts:', error);\n",
              "      }\n",
              "      quickchartButtonEl.classList.remove('colab-df-spinner');\n",
              "      quickchartButtonEl.classList.add('colab-df-quickchart-complete');\n",
              "    }\n",
              "    (() => {\n",
              "      let quickchartButtonEl =\n",
              "        document.querySelector('#df-0b969ec8-9063-4f5d-95b1-e71e514371c0 button');\n",
              "      quickchartButtonEl.style.display =\n",
              "        google.colab.kernel.accessAllowed ? 'block' : 'none';\n",
              "    })();\n",
              "  </script>\n",
              "</div>\n",
              "\n",
              "    </div>\n",
              "  </div>\n"
            ],
            "application/vnd.google.colaboratory.intrinsic+json": {
              "type": "dataframe",
              "variable_name": "df",
              "summary": "{\n  \"name\": \"df\",\n  \"rows\": 90000,\n  \"fields\": [\n    {\n      \"column\": \"original_col\",\n      \"properties\": {\n        \"dtype\": \"category\",\n        \"num_unique_values\": 24353,\n        \"samples\": [\n          \"\\u0995\\u09cd\\u09af\\u09be\\u09aa\\u09bf\\u099f\\u09b2 _ _ B-CORP\",\n          \"\\u0993\\u09ad\\u09be\\u09b0\\u09ad\\u09bf\\u0989 _ _ O\",\n          \"\\u09ab\\u09be\\u0987\\u099f\\u09be\\u09b0 _ _ O\"\n        ],\n        \"semantic_type\": \"\",\n        \"description\": \"\"\n      }\n    }\n  ]\n}"
            }
          },
          "metadata": {},
          "execution_count": 6
        }
      ],
      "source": [
        "df.head(10)"
      ]
    },
    {
      "cell_type": "code",
      "execution_count": 7,
      "id": "2fc82f8a",
      "metadata": {
        "colab": {
          "base_uri": "https://localhost:8080/"
        },
        "id": "2fc82f8a",
        "outputId": "024f85ea-2888-4965-f6cf-e18ff447148e"
      },
      "outputs": [
        {
          "output_type": "execute_result",
          "data": {
            "text/plain": [
              "(90000, 1)"
            ]
          },
          "metadata": {},
          "execution_count": 7
        }
      ],
      "source": [
        "df.shape"
      ]
    },
    {
      "cell_type": "code",
      "execution_count": 8,
      "id": "337b2906",
      "metadata": {
        "colab": {
          "base_uri": "https://localhost:8080/"
        },
        "id": "337b2906",
        "outputId": "916b5098-562b-4eb9-b6a5-540294ee1848"
      },
      "outputs": [
        {
          "output_type": "stream",
          "name": "stdout",
          "text": [
            "<class 'pandas.core.frame.DataFrame'>\n",
            "Int64Index: 90000 entries, 69960 to 59709\n",
            "Data columns (total 1 columns):\n",
            " #   Column        Non-Null Count  Dtype \n",
            "---  ------        --------------  ----- \n",
            " 0   original_col  90000 non-null  object\n",
            "dtypes: object(1)\n",
            "memory usage: 1.4+ MB\n"
          ]
        }
      ],
      "source": [
        "df.info()"
      ]
    },
    {
      "cell_type": "code",
      "execution_count": null,
      "id": "53911e2f",
      "metadata": {
        "id": "53911e2f"
      },
      "outputs": [],
      "source": [
        "# Splitting the column and creating two new columns\n",
        "df[['tokens', 'ner_tags']] = df['original_col'].str.split('_ _', expand=True)\n",
        "\n",
        "# Dropping the original column\n",
        "df.drop(columns=['original_col'], inplace=True)\n",
        "\n",
        "df.reset_index(drop=True, inplace=True)\n",
        "# Displaying the resulting DataFrame\n",
        "df"
      ]
    },
    {
      "cell_type": "code",
      "source": [
        "\n",
        "# Function to replace ner_tags with 'NUM' if tokens contain numbers\n",
        "def replace_ner_tags(row):\n",
        "    if any(char.isdigit() for char in row['tokens']):\n",
        "        row['ner_tags'] = 'NUM'\n",
        "    return row\n",
        "\n",
        "# Apply the function to each row\n",
        "df = df.apply(replace_ner_tags, axis=1)\n",
        "\n",
        "print(df.shape)\n"
      ],
      "metadata": {
        "id": "S24jKeOm_Fiy"
      },
      "id": "S24jKeOm_Fiy",
      "execution_count": null,
      "outputs": []
    },
    {
      "cell_type": "code",
      "source": [
        "# Count occurrences of each class\n",
        "class_counts = df['ner_tags'].value_counts()\n",
        "\n",
        "# Display the counts of each class\n",
        "print(class_counts)"
      ],
      "metadata": {
        "id": "470vOiY5R5xL"
      },
      "id": "470vOiY5R5xL",
      "execution_count": null,
      "outputs": []
    },
    {
      "cell_type": "code",
      "execution_count": null,
      "id": "a351ddc6",
      "metadata": {
        "id": "a351ddc6"
      },
      "outputs": [],
      "source": [
        "df.isnull().sum()"
      ]
    },
    {
      "cell_type": "code",
      "execution_count": null,
      "id": "c233cc7f",
      "metadata": {
        "id": "c233cc7f"
      },
      "outputs": [],
      "source": [
        "# Grouping into chunks of 5 rows and aggregating values into lists\n",
        "df = df.groupby(df.index // 8).agg(lambda x: x.tolist())\n",
        "\n",
        "# Displaying the resulting DataFrame\n",
        "df"
      ]
    },
    {
      "cell_type": "code",
      "execution_count": null,
      "id": "901630fb",
      "metadata": {
        "id": "901630fb"
      },
      "outputs": [],
      "source": [
        "# Save the DataFrame to a CSV file\n",
        "df.to_csv('/content/drive/MyDrive/Detect/file.csv', index=False)"
      ]
    },
    {
      "cell_type": "code",
      "execution_count": null,
      "id": "fc2d0680",
      "metadata": {
        "id": "fc2d0680"
      },
      "outputs": [],
      "source": [
        "# Read the CSV file back\n",
        "import ast\n",
        "df = pd.read_csv('/content/drive/MyDrive/Detect/file.csv', converters={'tokens': ast.literal_eval, 'ner_tags': ast.literal_eval})"
      ]
    },
    {
      "cell_type": "code",
      "execution_count": null,
      "id": "fb2d7e91",
      "metadata": {
        "id": "fb2d7e91"
      },
      "outputs": [],
      "source": [
        "df.head()"
      ]
    },
    {
      "cell_type": "code",
      "execution_count": null,
      "id": "d805e235",
      "metadata": {
        "id": "d805e235"
      },
      "outputs": [],
      "source": [
        "df.tokens[0]"
      ]
    },
    {
      "cell_type": "code",
      "execution_count": null,
      "id": "8599adb1",
      "metadata": {
        "id": "8599adb1"
      },
      "outputs": [],
      "source": [
        "df.sample(10)"
      ]
    },
    {
      "cell_type": "code",
      "source": [],
      "metadata": {
        "id": "5RxRlAn-8b-f"
      },
      "id": "5RxRlAn-8b-f",
      "execution_count": null,
      "outputs": []
    }
  ],
  "metadata": {
    "kernelspec": {
      "display_name": "Python 3",
      "name": "python3"
    },
    "language_info": {
      "codemirror_mode": {
        "name": "ipython",
        "version": 3
      },
      "file_extension": ".py",
      "mimetype": "text/x-python",
      "name": "python",
      "nbconvert_exporter": "python",
      "pygments_lexer": "ipython3",
      "version": "3.11.5"
    },
    "colab": {
      "provenance": [],
      "gpuType": "T4"
    },
    "accelerator": "GPU"
  },
  "nbformat": 4,
  "nbformat_minor": 5
}